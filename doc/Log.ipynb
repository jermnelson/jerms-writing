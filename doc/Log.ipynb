{
 "cells": [
  {
   "cell_type": "code",
   "execution_count": 12,
   "metadata": {},
   "outputs": [
    {
     "name": "stdout",
     "output_type": "stream",
     "text": [
      "2019-12-13 17:03:15.141966\n"
     ]
    }
   ],
   "source": [
    "import datetime\n",
    "import os\n",
    "import pathlib\n",
    "import string\n",
    "from PIL import Image\n",
    "now = datetime.datetime.utcnow()\n",
    "print(now)"
   ]
  },
  {
   "cell_type": "code",
   "execution_count": 2,
   "metadata": {},
   "outputs": [],
   "source": [
    "def process_directory(path):\n",
    "    start = datetime.datetime.utcnow()\n",
    "    walker = next(os.walk(path))\n",
    "    print(f\"{start.isoformat()} for {len(walker[-1])} files\")\n",
    "    for filename in walker[-1]:\n",
    "        filepath = os.path.join(path, filename)\n",
    "        normalize_size(os.path.join(path, filename))\n",
    "    end = datetime.datetime.utcnow()\n",
    "    print(f\"Finished at {end.isoformat()}\")"
   ]
  },
  {
   "cell_type": "code",
   "execution_count": 3,
   "metadata": {},
   "outputs": [],
   "source": [
    "def normalize_size(path):\n",
    "    original = Image.open(path)\n",
    "    xsize, ysize = original.size\n",
    "    if xsize == 56 and ysize == 56:\n",
    "        return\n",
    "    center_x, center_y = int((56 - xsize)/ 2), int((56 - ysize) / 2)\n",
    "    normalized = Image.new('RGB', (56,56), color='white')\n",
    "    normalized.paste(original, (center_x, center_y))\n",
    "    normalized.save(path, \"PNG\")\n",
    "    "
   ]
  },
  {
   "cell_type": "code",
   "execution_count": 27,
   "metadata": {},
   "outputs": [],
   "source": [
    "def gap_analysis(train_goal, validation_goal):\n",
    "    start = datetime.datetime.utcnow()\n",
    "    print(f\"{start.isoformat()} Gap Analysis for Training and Validation\")\n",
    "    training = pathlib.Path(\"/Users/jpnelson/2019/jermswriting/data/train\")\n",
    "    print(\"Training Statistics\")\n",
    "    total = 0\n",
    "    classes = 0\n",
    "    for x in sorted(training.iterdir()):\n",
    "        current = len(list(x.glob('*.png')))\n",
    "        total += current\n",
    "        classes += 1\n",
    "        print(f\"{x} current {current} needs {train_goal-current}\")\n",
    "    print(f\"Total training images {total} need {classes*train_goal}\")\n"
   ]
  },
  {
   "cell_type": "code",
   "execution_count": 28,
   "metadata": {},
   "outputs": [
    {
     "name": "stdout",
     "output_type": "stream",
     "text": [
      "2019-12-13T21:20:54.108168 Gap Analysis for Training and Validation\n",
      "Training Statistics\n",
      "/Users/jpnelson/2019/jermswriting/data/train/0 current 5 needs 15\n",
      "/Users/jpnelson/2019/jermswriting/data/train/1 current 2 needs 18\n",
      "/Users/jpnelson/2019/jermswriting/data/train/2 current 3 needs 17\n",
      "/Users/jpnelson/2019/jermswriting/data/train/3 current 4 needs 16\n",
      "/Users/jpnelson/2019/jermswriting/data/train/4 current 3 needs 17\n",
      "/Users/jpnelson/2019/jermswriting/data/train/5 current 4 needs 16\n",
      "/Users/jpnelson/2019/jermswriting/data/train/6 current 3 needs 17\n",
      "/Users/jpnelson/2019/jermswriting/data/train/7 current 4 needs 16\n",
      "/Users/jpnelson/2019/jermswriting/data/train/8 current 3 needs 17\n",
      "/Users/jpnelson/2019/jermswriting/data/train/9 current 4 needs 16\n",
      "/Users/jpnelson/2019/jermswriting/data/train/a current 7 needs 13\n",
      "/Users/jpnelson/2019/jermswriting/data/train/b current 4 needs 16\n",
      "/Users/jpnelson/2019/jermswriting/data/train/c current 6 needs 14\n",
      "/Users/jpnelson/2019/jermswriting/data/train/d current 9 needs 11\n",
      "/Users/jpnelson/2019/jermswriting/data/train/e current 4 needs 16\n",
      "/Users/jpnelson/2019/jermswriting/data/train/f current 7 needs 13\n",
      "/Users/jpnelson/2019/jermswriting/data/train/g current 5 needs 15\n",
      "/Users/jpnelson/2019/jermswriting/data/train/h current 5 needs 15\n",
      "/Users/jpnelson/2019/jermswriting/data/train/i current 6 needs 14\n",
      "/Users/jpnelson/2019/jermswriting/data/train/j current 3 needs 17\n",
      "/Users/jpnelson/2019/jermswriting/data/train/k current 5 needs 15\n",
      "/Users/jpnelson/2019/jermswriting/data/train/l current 5 needs 15\n",
      "/Users/jpnelson/2019/jermswriting/data/train/m current 5 needs 15\n",
      "/Users/jpnelson/2019/jermswriting/data/train/n current 7 needs 13\n",
      "/Users/jpnelson/2019/jermswriting/data/train/o current 4 needs 16\n",
      "/Users/jpnelson/2019/jermswriting/data/train/p current 4 needs 16\n",
      "/Users/jpnelson/2019/jermswriting/data/train/q current 2 needs 18\n",
      "/Users/jpnelson/2019/jermswriting/data/train/r current 7 needs 13\n",
      "/Users/jpnelson/2019/jermswriting/data/train/s current 3 needs 17\n",
      "/Users/jpnelson/2019/jermswriting/data/train/t current 5 needs 15\n",
      "/Users/jpnelson/2019/jermswriting/data/train/u current 4 needs 16\n",
      "/Users/jpnelson/2019/jermswriting/data/train/v current 3 needs 17\n",
      "/Users/jpnelson/2019/jermswriting/data/train/w current 4 needs 16\n",
      "/Users/jpnelson/2019/jermswriting/data/train/x current 4 needs 16\n",
      "/Users/jpnelson/2019/jermswriting/data/train/y current 4 needs 16\n",
      "/Users/jpnelson/2019/jermswriting/data/train/z current 1 needs 19\n",
      "Total training images 158 need 720\n"
     ]
    }
   ],
   "source": [
    "gap_analysis(20, 5)"
   ]
  },
  {
   "cell_type": "markdown",
   "metadata": {},
   "source": [
    "# 2019-12-13 \n",
    "## Normalize images, identifying gaps, and starting first model\n",
    "Before I begin building and testing the first Keras model for the handwriting identification, my first pass is to have 20 images per training class and 5 images per validation just to get a sense of what the accuracy and how much more data is needed to improve the neural net."
   ]
  },
  {
   "cell_type": "markdown",
   "metadata": {},
   "source": [
    "## 2019-12-11\n",
    "# Normalize images"
   ]
  },
  {
   "cell_type": "markdown",
   "metadata": {},
   "source": [
    "### Training images"
   ]
  },
  {
   "cell_type": "code",
   "execution_count": 9,
   "metadata": {},
   "outputs": [
    {
     "name": "stdout",
     "output_type": "stream",
     "text": [
      "2019-12-11T17:29:17.460199 for 3 files\n",
      "skipping /Users/jpnelson/2019/jermswriting/data/train/6/6.png\n",
      "skipping /Users/jpnelson/2019/jermswriting/data/train/6/2.png\n",
      "skipping /Users/jpnelson/2019/jermswriting/data/train/6/1.png\n",
      "Finished at 2019-12-11T17:29:17.462648\n",
      "2019-12-11T17:29:17.462676 for 4 files\n",
      "skipping /Users/jpnelson/2019/jermswriting/data/train/7/4.png\n",
      "skipping /Users/jpnelson/2019/jermswriting/data/train/7/2.png\n",
      "skipping /Users/jpnelson/2019/jermswriting/data/train/7/3.png\n",
      "skipping /Users/jpnelson/2019/jermswriting/data/train/7/1.png\n",
      "Finished at 2019-12-11T17:29:17.464623\n",
      "2019-12-11T17:29:17.464674 for 3 files\n",
      "skipping /Users/jpnelson/2019/jermswriting/data/train/8/2.png\n",
      "skipping /Users/jpnelson/2019/jermswriting/data/train/8/3.png\n",
      "skipping /Users/jpnelson/2019/jermswriting/data/train/8/1.png\n",
      "Finished at 2019-12-11T17:29:17.466147\n",
      "2019-12-11T17:29:17.466184 for 4 files\n",
      "skipping /Users/jpnelson/2019/jermswriting/data/train/9/4.png\n",
      "skipping /Users/jpnelson/2019/jermswriting/data/train/9/2.png\n",
      "skipping /Users/jpnelson/2019/jermswriting/data/train/9/3.png\n",
      "skipping /Users/jpnelson/2019/jermswriting/data/train/9/1.png\n",
      "Finished at 2019-12-11T17:29:17.467619\n",
      "2019-12-11T17:29:17.467736 for 4 files\n",
      "skipping /Users/jpnelson/2019/jermswriting/data/train/b/4.png\n",
      "skipping /Users/jpnelson/2019/jermswriting/data/train/b/2.png\n",
      "skipping /Users/jpnelson/2019/jermswriting/data/train/b/3.png\n",
      "skipping /Users/jpnelson/2019/jermswriting/data/train/b/1.png\n",
      "Finished at 2019-12-11T17:29:17.469700\n",
      "2019-12-11T17:29:17.469735 for 5 files\n",
      "skipping /Users/jpnelson/2019/jermswriting/data/train/c/4.png\n",
      "skipping /Users/jpnelson/2019/jermswriting/data/train/c/5.png\n",
      "skipping /Users/jpnelson/2019/jermswriting/data/train/c/2.png\n",
      "skipping /Users/jpnelson/2019/jermswriting/data/train/c/3.png\n",
      "skipping /Users/jpnelson/2019/jermswriting/data/train/c/1.png\n",
      "Finished at 2019-12-11T17:29:17.472444\n",
      "2019-12-11T17:29:17.472465 for 7 files\n",
      "skipping /Users/jpnelson/2019/jermswriting/data/train/d/4.png\n",
      "skipping /Users/jpnelson/2019/jermswriting/data/train/d/5.png\n",
      "skipping /Users/jpnelson/2019/jermswriting/data/train/d/7.png\n",
      "skipping /Users/jpnelson/2019/jermswriting/data/train/d/6.png\n",
      "skipping /Users/jpnelson/2019/jermswriting/data/train/d/2.png\n",
      "skipping /Users/jpnelson/2019/jermswriting/data/train/d/3.png\n",
      "skipping /Users/jpnelson/2019/jermswriting/data/train/d/1.png\n",
      "Finished at 2019-12-11T17:29:17.476421\n",
      "2019-12-11T17:29:17.476461 for 4 files\n",
      "skipping /Users/jpnelson/2019/jermswriting/data/train/e/4.png\n",
      "skipping /Users/jpnelson/2019/jermswriting/data/train/e/2.png\n",
      "skipping /Users/jpnelson/2019/jermswriting/data/train/e/3.png\n",
      "skipping /Users/jpnelson/2019/jermswriting/data/train/e/1.png\n",
      "Finished at 2019-12-11T17:29:17.478486\n",
      "2019-12-11T17:29:17.478523 for 5 files\n",
      "skipping /Users/jpnelson/2019/jermswriting/data/train/f/4.png\n",
      "skipping /Users/jpnelson/2019/jermswriting/data/train/f/5.png\n",
      "skipping /Users/jpnelson/2019/jermswriting/data/train/f/2.png\n",
      "skipping /Users/jpnelson/2019/jermswriting/data/train/f/3.png\n",
      "skipping /Users/jpnelson/2019/jermswriting/data/train/f/1.png\n",
      "Finished at 2019-12-11T17:29:17.480837\n",
      "2019-12-11T17:29:17.480874 for 5 files\n",
      "skipping /Users/jpnelson/2019/jermswriting/data/train/g/4.png\n",
      "skipping /Users/jpnelson/2019/jermswriting/data/train/g/5.png\n",
      "skipping /Users/jpnelson/2019/jermswriting/data/train/g/2.png\n",
      "skipping /Users/jpnelson/2019/jermswriting/data/train/g/3.png\n",
      "skipping /Users/jpnelson/2019/jermswriting/data/train/g/1.png\n",
      "Finished at 2019-12-11T17:29:17.483238\n",
      "2019-12-11T17:29:17.483296 for 4 files\n",
      "skipping /Users/jpnelson/2019/jermswriting/data/train/h/4.png\n",
      "skipping /Users/jpnelson/2019/jermswriting/data/train/h/2.png\n",
      "skipping /Users/jpnelson/2019/jermswriting/data/train/h/3.png\n",
      "skipping /Users/jpnelson/2019/jermswriting/data/train/h/1.png\n",
      "Finished at 2019-12-11T17:29:17.485293\n",
      "2019-12-11T17:29:17.485329 for 5 files\n",
      "skipping /Users/jpnelson/2019/jermswriting/data/train/i/4.png\n",
      "skipping /Users/jpnelson/2019/jermswriting/data/train/i/5.png\n",
      "skipping /Users/jpnelson/2019/jermswriting/data/train/i/2.png\n",
      "skipping /Users/jpnelson/2019/jermswriting/data/train/i/3.png\n",
      "skipping /Users/jpnelson/2019/jermswriting/data/train/i/1.png\n",
      "Finished at 2019-12-11T17:29:17.487777\n",
      "2019-12-11T17:29:17.487813 for 3 files\n",
      "skipping /Users/jpnelson/2019/jermswriting/data/train/j/2.png\n",
      "skipping /Users/jpnelson/2019/jermswriting/data/train/j/3.png\n",
      "skipping /Users/jpnelson/2019/jermswriting/data/train/j/1.png\n",
      "Finished at 2019-12-11T17:29:17.489445\n",
      "2019-12-11T17:29:17.489481 for 5 files\n",
      "skipping /Users/jpnelson/2019/jermswriting/data/train/k/4.png\n",
      "skipping /Users/jpnelson/2019/jermswriting/data/train/k/5.png\n",
      "skipping /Users/jpnelson/2019/jermswriting/data/train/k/2.png\n",
      "skipping /Users/jpnelson/2019/jermswriting/data/train/k/3.png\n",
      "skipping /Users/jpnelson/2019/jermswriting/data/train/k/1.png\n",
      "Finished at 2019-12-11T17:29:17.492089\n",
      "2019-12-11T17:29:17.492126 for 5 files\n",
      "skipping /Users/jpnelson/2019/jermswriting/data/train/l/4.png\n",
      "skipping /Users/jpnelson/2019/jermswriting/data/train/l/5.png\n",
      "skipping /Users/jpnelson/2019/jermswriting/data/train/l/2.png\n",
      "skipping /Users/jpnelson/2019/jermswriting/data/train/l/3.png\n",
      "skipping /Users/jpnelson/2019/jermswriting/data/train/l/1.png\n",
      "Finished at 2019-12-11T17:29:17.495179\n",
      "2019-12-11T17:29:17.495230 for 5 files\n",
      "skipping /Users/jpnelson/2019/jermswriting/data/train/m/4.png\n",
      "skipping /Users/jpnelson/2019/jermswriting/data/train/m/5.png\n",
      "skipping /Users/jpnelson/2019/jermswriting/data/train/m/2.png\n",
      "skipping /Users/jpnelson/2019/jermswriting/data/train/m/3.png\n",
      "skipping /Users/jpnelson/2019/jermswriting/data/train/m/1.png\n",
      "Finished at 2019-12-11T17:29:17.497604\n",
      "2019-12-11T17:29:17.497663 for 6 files\n",
      "skipping /Users/jpnelson/2019/jermswriting/data/train/n/4.png\n",
      "skipping /Users/jpnelson/2019/jermswriting/data/train/n/5.png\n",
      "skipping /Users/jpnelson/2019/jermswriting/data/train/n/6.png\n",
      "skipping /Users/jpnelson/2019/jermswriting/data/train/n/2.png\n",
      "skipping /Users/jpnelson/2019/jermswriting/data/train/n/3.png\n",
      "skipping /Users/jpnelson/2019/jermswriting/data/train/n/1.png\n",
      "Finished at 2019-12-11T17:29:17.500566\n",
      "2019-12-11T17:29:17.500603 for 4 files\n",
      "skipping /Users/jpnelson/2019/jermswriting/data/train/o/4.png\n",
      "skipping /Users/jpnelson/2019/jermswriting/data/train/o/2.png\n",
      "skipping /Users/jpnelson/2019/jermswriting/data/train/o/3.png\n",
      "skipping /Users/jpnelson/2019/jermswriting/data/train/o/1.png\n",
      "Finished at 2019-12-11T17:29:17.502190\n",
      "2019-12-11T17:29:17.502221 for 3 files\n",
      "skipping /Users/jpnelson/2019/jermswriting/data/train/p/2.png\n",
      "skipping /Users/jpnelson/2019/jermswriting/data/train/p/3.png\n",
      "skipping /Users/jpnelson/2019/jermswriting/data/train/p/1.png\n",
      "Finished at 2019-12-11T17:29:17.503673\n",
      "2019-12-11T17:29:17.503706 for 2 files\n",
      "skipping /Users/jpnelson/2019/jermswriting/data/train/q/2.png\n",
      "skipping /Users/jpnelson/2019/jermswriting/data/train/q/1.png\n",
      "Finished at 2019-12-11T17:29:17.504870\n",
      "2019-12-11T17:29:17.504905 for 6 files\n",
      "skipping /Users/jpnelson/2019/jermswriting/data/train/r/4.png\n",
      "skipping /Users/jpnelson/2019/jermswriting/data/train/r/5.png\n",
      "skipping /Users/jpnelson/2019/jermswriting/data/train/r/6.png\n",
      "skipping /Users/jpnelson/2019/jermswriting/data/train/r/2.png\n",
      "skipping /Users/jpnelson/2019/jermswriting/data/train/r/3.png\n",
      "skipping /Users/jpnelson/2019/jermswriting/data/train/r/1.png\n",
      "Finished at 2019-12-11T17:29:17.508019\n",
      "2019-12-11T17:29:17.508057 for 3 files\n",
      "skipping /Users/jpnelson/2019/jermswriting/data/train/s/2.png\n",
      "skipping /Users/jpnelson/2019/jermswriting/data/train/s/3.png\n",
      "skipping /Users/jpnelson/2019/jermswriting/data/train/s/1.png\n",
      "Finished at 2019-12-11T17:29:17.509713\n",
      "2019-12-11T17:29:17.509742 for 4 files\n",
      "skipping /Users/jpnelson/2019/jermswriting/data/train/t/4.png\n",
      "skipping /Users/jpnelson/2019/jermswriting/data/train/t/2.png\n",
      "skipping /Users/jpnelson/2019/jermswriting/data/train/t/3.png\n",
      "skipping /Users/jpnelson/2019/jermswriting/data/train/t/1.png\n",
      "Finished at 2019-12-11T17:29:17.512004\n",
      "2019-12-11T17:29:17.512041 for 4 files\n",
      "skipping /Users/jpnelson/2019/jermswriting/data/train/u/2.png\n",
      "skipping /Users/jpnelson/2019/jermswriting/data/train/u/3.png\n",
      "skipping /Users/jpnelson/2019/jermswriting/data/train/u/1.png\n",
      "Finished at 2019-12-11T17:29:17.515186\n",
      "2019-12-11T17:29:17.515222 for 2 files\n",
      "skipping /Users/jpnelson/2019/jermswriting/data/train/v/2.png\n",
      "skipping /Users/jpnelson/2019/jermswriting/data/train/v/1.png\n",
      "Finished at 2019-12-11T17:29:17.516983\n",
      "2019-12-11T17:29:17.517063 for 3 files\n",
      "skipping /Users/jpnelson/2019/jermswriting/data/train/w/2.png\n",
      "skipping /Users/jpnelson/2019/jermswriting/data/train/w/3.png\n",
      "skipping /Users/jpnelson/2019/jermswriting/data/train/w/1.png\n",
      "Finished at 2019-12-11T17:29:17.518943\n",
      "2019-12-11T17:29:17.518975 for 3 files\n",
      "skipping /Users/jpnelson/2019/jermswriting/data/train/x/2.png\n",
      "skipping /Users/jpnelson/2019/jermswriting/data/train/x/3.png\n",
      "skipping /Users/jpnelson/2019/jermswriting/data/train/x/1.png\n",
      "Finished at 2019-12-11T17:29:17.520951\n",
      "2019-12-11T17:29:17.520989 for 4 files\n",
      "skipping /Users/jpnelson/2019/jermswriting/data/train/y/4.png\n",
      "skipping /Users/jpnelson/2019/jermswriting/data/train/y/2.png\n",
      "skipping /Users/jpnelson/2019/jermswriting/data/train/y/3.png\n",
      "skipping /Users/jpnelson/2019/jermswriting/data/train/y/1.png\n",
      "Finished at 2019-12-11T17:29:17.522897\n",
      "2019-12-11T17:29:17.522939 for 1 files\n",
      "skipping /Users/jpnelson/2019/jermswriting/data/train/z/1.png\n",
      "Finished at 2019-12-11T17:29:17.523776\n"
     ]
    }
   ],
   "source": [
    "for num in range(6,10):\n",
    "    process_directory(f\"/Users/jpnelson/2019/jermswriting/data/train/{num}\")\n",
    "for char in string.ascii_lowercase[1:]:\n",
    "    process_directory(f\"/Users/jpnelson/2019/jermswriting/data/train/{char}\")"
   ]
  },
  {
   "cell_type": "code",
   "execution_count": null,
   "metadata": {},
   "outputs": [],
   "source": []
  },
  {
   "cell_type": "markdown",
   "metadata": {},
   "source": [
    "## 2019-12-09 \n",
    "# Normalizing images "
   ]
  },
  {
   "cell_type": "code",
   "execution_count": 23,
   "metadata": {},
   "outputs": [],
   "source": [
    "normalized_image = Image.new('RGB', (56,56), color='white')"
   ]
  },
  {
   "cell_type": "code",
   "execution_count": 3,
   "metadata": {},
   "outputs": [],
   "source": [
    "five_three = Image.open('/Users/jpnelson/2019/jermswriting/data/train/5/3.png')"
   ]
  },
  {
   "cell_type": "code",
   "execution_count": 7,
   "metadata": {},
   "outputs": [],
   "source": [
    "xsize, ysize = five_three.size"
   ]
  },
  {
   "cell_type": "code",
   "execution_count": 21,
   "metadata": {},
   "outputs": [
    {
     "data": {
      "text/plain": [
       "(15, 14)"
      ]
     },
     "execution_count": 21,
     "metadata": {},
     "output_type": "execute_result"
    }
   ],
   "source": [
    "int((56-xsize) / 2), int((56-ysize) / 2)"
   ]
  },
  {
   "cell_type": "code",
   "execution_count": 25,
   "metadata": {},
   "outputs": [],
   "source": [
    "normalized_image.paste(five_three, (int((56-xsize) / 2), int((56-ysize) / 2)))\n",
    "normalized_image.save(\"/Users/jpnelson/2019/tmp/merged.png\", \"PNG\")"
   ]
  },
  {
   "cell_type": "code",
   "execution_count": 28,
   "metadata": {},
   "outputs": [],
   "source": [
    "normalize_size('/Users/jpnelson/2019/jermswriting/data/train/5/5.png')"
   ]
  },
  {
   "cell_type": "code",
   "execution_count": 46,
   "metadata": {},
   "outputs": [
    {
     "name": "stdout",
     "output_type": "stream",
     "text": [
      "2019-12-09T22:03:15.017557 for 5 files\n",
      "Finished at 2019-12-09T22:03:15.032884\n"
     ]
    }
   ],
   "source": [
    "process_directory(\"/Users/jpnelson/2019/jermswriting/data/train/a\")"
   ]
  },
  {
   "cell_type": "code",
   "execution_count": 49,
   "metadata": {},
   "outputs": [
    {
     "name": "stdout",
     "output_type": "stream",
     "text": [
      "2019-12-09T22:05:34.510446 for 3 files\n",
      "Finished at 2019-12-09T22:05:34.517885\n",
      "2019-12-09T22:05:34.517961 for 4 files\n",
      "Finished at 2019-12-09T22:05:34.526216\n",
      "2019-12-09T22:05:34.526298 for 3 files\n",
      "Finished at 2019-12-09T22:05:34.533504\n",
      "2019-12-09T22:05:34.533823 for 4 files\n",
      "Finished at 2019-12-09T22:05:34.541644\n"
     ]
    }
   ],
   "source": [
    "for num in range(6,10):\n",
    "    process_directory(f\"/Users/jpnelson/2019/jermswriting/data/train/{num}\")\n",
    "for char in string.ascii_lowercase[1:]:\n",
    "    process_directory(f\"/Users/jpnelson/2019/jermswriting/data/train/{char}\")"
   ]
  },
  {
   "cell_type": "code",
   "execution_count": 53,
   "metadata": {},
   "outputs": [
    {
     "name": "stdout",
     "output_type": "stream",
     "text": [
      "2019-12-09T22:20:30.570088 for 4 files\n",
      "Finished at 2019-12-09T22:20:30.581726\n",
      "2019-12-09T22:20:30.581809 for 5 files\n",
      "Finished at 2019-12-09T22:20:30.593078\n",
      "2019-12-09T22:20:30.593167 for 5 files\n",
      "Finished at 2019-12-09T22:20:30.603283\n",
      "2019-12-09T22:20:30.603387 for 4 files\n",
      "Finished at 2019-12-09T22:20:30.609943\n",
      "2019-12-09T22:20:30.610063 for 5 files\n",
      "Finished at 2019-12-09T22:20:30.619084\n",
      "2019-12-09T22:20:30.619179 for 4 files\n",
      "Finished at 2019-12-09T22:20:30.627800\n",
      "2019-12-09T22:20:30.627890 for 4 files\n",
      "Finished at 2019-12-09T22:20:30.635831\n",
      "2019-12-09T22:20:30.636005 for 5 files\n",
      "Finished at 2019-12-09T22:20:30.646820\n",
      "2019-12-09T22:20:30.646893 for 3 files\n",
      "Finished at 2019-12-09T22:20:30.653105\n",
      "2019-12-09T22:20:30.653184 for 5 files\n",
      "Finished at 2019-12-09T22:20:30.662821\n",
      "2019-12-09T22:20:30.663165 for 5 files\n",
      "Finished at 2019-12-09T22:20:30.672579\n",
      "2019-12-09T22:20:30.672657 for 5 files\n",
      "Finished at 2019-12-09T22:20:30.682094\n",
      "2019-12-09T22:20:30.682185 for 5 files\n",
      "Finished at 2019-12-09T22:20:30.691930\n",
      "2019-12-09T22:20:30.692000 for 4 files\n",
      "Finished at 2019-12-09T22:20:30.697648\n",
      "2019-12-09T22:20:30.697735 for 3 files\n",
      "Finished at 2019-12-09T22:20:30.704262\n",
      "2019-12-09T22:20:30.704355 for 1 files\n",
      "Finished at 2019-12-09T22:20:30.706780\n",
      "2019-12-09T22:20:30.706891 for 5 files\n",
      "Finished at 2019-12-09T22:20:30.716305\n",
      "2019-12-09T22:20:30.716395 for 3 files\n",
      "Finished at 2019-12-09T22:20:30.721222\n",
      "2019-12-09T22:20:30.721284 for 4 files\n",
      "Finished at 2019-12-09T22:20:30.728134\n",
      "2019-12-09T22:20:30.728215 for 3 files\n",
      "Finished at 2019-12-09T22:20:30.732977\n",
      "2019-12-09T22:20:30.733041 for 2 files\n",
      "Finished at 2019-12-09T22:20:30.736833\n",
      "2019-12-09T22:20:30.736899 for 3 files\n",
      "Finished at 2019-12-09T22:20:30.742063\n",
      "2019-12-09T22:20:30.742132 for 3 files\n",
      "Finished at 2019-12-09T22:20:30.746880\n",
      "2019-12-09T22:20:30.746942 for 4 files\n",
      "Finished at 2019-12-09T22:20:30.753582\n",
      "2019-12-09T22:20:30.753652 for 1 files\n",
      "Finished at 2019-12-09T22:20:30.755721\n"
     ]
    }
   ],
   "source": [
    "import string\n",
    "for char in string.ascii_lowercase[1:]:\n",
    "    process_directory(f\"/Users/jpnelson/2019/jermswriting/data/train/{char}\")"
   ]
  },
  {
   "cell_type": "code",
   "execution_count": 59,
   "metadata": {},
   "outputs": [
    {
     "name": "stdout",
     "output_type": "stream",
     "text": [
      "2019-12-10T00:02:01.096861 for 3 files\n",
      "skipping /Users/jpnelson/2019/jermswriting/data/validation/0/2.png\n",
      "skipping /Users/jpnelson/2019/jermswriting/data/validation/0/3.png\n",
      "skipping /Users/jpnelson/2019/jermswriting/data/validation/0/1.png\n",
      "Finished at 2019-12-10T00:02:01.100764\n",
      "2019-12-10T00:02:01.100798 for 1 files\n",
      "skipping /Users/jpnelson/2019/jermswriting/data/validation/1/1.png\n",
      "Finished at 2019-12-10T00:02:01.102243\n",
      "2019-12-10T00:02:01.102291 for 1 files\n",
      "skipping /Users/jpnelson/2019/jermswriting/data/validation/2/2.png\n",
      "Finished at 2019-12-10T00:02:01.103861\n",
      "2019-12-10T00:02:01.103897 for 1 files\n",
      "skipping /Users/jpnelson/2019/jermswriting/data/validation/3/3.png\n",
      "Finished at 2019-12-10T00:02:01.105448\n",
      "2019-12-10T00:02:01.105490 for 1 files\n",
      "skipping /Users/jpnelson/2019/jermswriting/data/validation/4/1.png\n",
      "Finished at 2019-12-10T00:02:01.107017\n",
      "2019-12-10T00:02:01.107065 for 1 files\n",
      "skipping /Users/jpnelson/2019/jermswriting/data/validation/5/1.png\n",
      "Finished at 2019-12-10T00:02:01.108335\n",
      "2019-12-10T00:02:01.108391 for 1 files\n",
      "skipping /Users/jpnelson/2019/jermswriting/data/validation/6/1.png\n",
      "Finished at 2019-12-10T00:02:01.110062\n",
      "2019-12-10T00:02:01.110147 for 1 files\n",
      "skipping /Users/jpnelson/2019/jermswriting/data/validation/7/1.png\n",
      "Finished at 2019-12-10T00:02:01.111212\n",
      "2019-12-10T00:02:01.111245 for 1 files\n",
      "Finished at 2019-12-10T00:02:01.113688\n",
      "2019-12-10T00:02:01.113759 for 1 files\n",
      "Finished at 2019-12-10T00:02:01.115979\n"
     ]
    }
   ],
   "source": [
    "for num in range(10):\n",
    "    process_directory(f\"/Users/jpnelson/2019/jermswriting/data/validation/{num}\")"
   ]
  },
  {
   "cell_type": "code",
   "execution_count": 61,
   "metadata": {},
   "outputs": [
    {
     "name": "stdout",
     "output_type": "stream",
     "text": [
      "2019-12-10T00:02:33.857714 for 4 files\n",
      "skipping /Users/jpnelson/2019/jermswriting/data/validation/b/2.png\n",
      "skipping /Users/jpnelson/2019/jermswriting/data/validation/b/1.png\n",
      "Finished at 2019-12-10T00:02:33.865171\n",
      "2019-12-10T00:02:33.865321 for 4 files\n",
      "skipping /Users/jpnelson/2019/jermswriting/data/validation/c/2.png\n",
      "skipping /Users/jpnelson/2019/jermswriting/data/validation/c/1.png\n",
      "Finished at 2019-12-10T00:02:33.870790\n",
      "2019-12-10T00:02:33.870825 for 4 files\n",
      "skipping /Users/jpnelson/2019/jermswriting/data/validation/d/2.png\n",
      "skipping /Users/jpnelson/2019/jermswriting/data/validation/d/1.png\n",
      "Finished at 2019-12-10T00:02:33.877141\n",
      "2019-12-10T00:02:33.877201 for 4 files\n",
      "skipping /Users/jpnelson/2019/jermswriting/data/validation/e/2.png\n",
      "skipping /Users/jpnelson/2019/jermswriting/data/validation/e/1.png\n",
      "Finished at 2019-12-10T00:02:33.883471\n",
      "2019-12-10T00:02:33.883516 for 4 files\n",
      "skipping /Users/jpnelson/2019/jermswriting/data/validation/f/2.png\n",
      "skipping /Users/jpnelson/2019/jermswriting/data/validation/f/1.png\n",
      "Finished at 2019-12-10T00:02:33.889766\n",
      "2019-12-10T00:02:33.889826 for 4 files\n",
      "skipping /Users/jpnelson/2019/jermswriting/data/validation/g/2.png\n",
      "skipping /Users/jpnelson/2019/jermswriting/data/validation/g/1.png\n",
      "Finished at 2019-12-10T00:02:33.895372\n",
      "2019-12-10T00:02:33.895404 for 4 files\n",
      "skipping /Users/jpnelson/2019/jermswriting/data/validation/h/2.png\n",
      "skipping /Users/jpnelson/2019/jermswriting/data/validation/h/1.png\n",
      "Finished at 2019-12-10T00:02:33.901875\n",
      "2019-12-10T00:02:33.901909 for 5 files\n",
      "skipping /Users/jpnelson/2019/jermswriting/data/validation/i/2.png\n",
      "skipping /Users/jpnelson/2019/jermswriting/data/validation/i/3.png\n",
      "skipping /Users/jpnelson/2019/jermswriting/data/validation/i/1.png\n",
      "Finished at 2019-12-10T00:02:33.908925\n",
      "2019-12-10T00:02:33.908969 for 4 files\n",
      "skipping /Users/jpnelson/2019/jermswriting/data/validation/j/2.png\n",
      "skipping /Users/jpnelson/2019/jermswriting/data/validation/j/1.png\n",
      "Finished at 2019-12-10T00:02:33.950776\n",
      "2019-12-10T00:02:33.950809 for 4 files\n",
      "skipping /Users/jpnelson/2019/jermswriting/data/validation/k/2.png\n",
      "skipping /Users/jpnelson/2019/jermswriting/data/validation/k/1.png\n",
      "Finished at 2019-12-10T00:02:33.958080\n",
      "2019-12-10T00:02:33.958125 for 4 files\n",
      "skipping /Users/jpnelson/2019/jermswriting/data/validation/l/2.png\n",
      "skipping /Users/jpnelson/2019/jermswriting/data/validation/l/1.png\n",
      "Finished at 2019-12-10T00:02:33.965163\n",
      "2019-12-10T00:02:33.965201 for 4 files\n",
      "skipping /Users/jpnelson/2019/jermswriting/data/validation/m/2.png\n",
      "skipping /Users/jpnelson/2019/jermswriting/data/validation/m/1.png\n",
      "Finished at 2019-12-10T00:02:33.972854\n",
      "2019-12-10T00:02:33.972900 for 4 files\n",
      "skipping /Users/jpnelson/2019/jermswriting/data/validation/n/2.png\n",
      "skipping /Users/jpnelson/2019/jermswriting/data/validation/n/1.png\n",
      "Finished at 2019-12-10T00:02:33.982102\n",
      "2019-12-10T00:02:33.982128 for 5 files\n",
      "skipping /Users/jpnelson/2019/jermswriting/data/validation/o/2.png\n",
      "skipping /Users/jpnelson/2019/jermswriting/data/validation/o/3.png\n",
      "skipping /Users/jpnelson/2019/jermswriting/data/validation/o/1.png\n",
      "Finished at 2019-12-10T00:02:33.988503\n",
      "2019-12-10T00:02:33.988553 for 5 files\n",
      "skipping /Users/jpnelson/2019/jermswriting/data/validation/p/2.png\n",
      "skipping /Users/jpnelson/2019/jermswriting/data/validation/p/3.png\n",
      "skipping /Users/jpnelson/2019/jermswriting/data/validation/p/1.png\n",
      "Finished at 2019-12-10T00:02:33.995656\n",
      "2019-12-10T00:02:33.995716 for 4 files\n",
      "skipping /Users/jpnelson/2019/jermswriting/data/validation/q/2.png\n",
      "skipping /Users/jpnelson/2019/jermswriting/data/validation/q/1.png\n",
      "Finished at 2019-12-10T00:02:34.001685\n",
      "2019-12-10T00:02:34.001731 for 4 files\n",
      "skipping /Users/jpnelson/2019/jermswriting/data/validation/r/2.png\n",
      "skipping /Users/jpnelson/2019/jermswriting/data/validation/r/1.png\n",
      "Finished at 2019-12-10T00:02:34.007403\n",
      "2019-12-10T00:02:34.007437 for 5 files\n",
      "skipping /Users/jpnelson/2019/jermswriting/data/validation/s/2.png\n",
      "skipping /Users/jpnelson/2019/jermswriting/data/validation/s/3.png\n",
      "skipping /Users/jpnelson/2019/jermswriting/data/validation/s/1.png\n",
      "Finished at 2019-12-10T00:02:34.014657\n",
      "2019-12-10T00:02:34.014721 for 4 files\n",
      "skipping /Users/jpnelson/2019/jermswriting/data/validation/t/2.png\n",
      "skipping /Users/jpnelson/2019/jermswriting/data/validation/t/1.png\n",
      "Finished at 2019-12-10T00:02:34.021571\n",
      "2019-12-10T00:02:34.021611 for 4 files\n",
      "skipping /Users/jpnelson/2019/jermswriting/data/validation/u/2.png\n",
      "skipping /Users/jpnelson/2019/jermswriting/data/validation/u/1.png\n",
      "Finished at 2019-12-10T00:02:34.054850\n",
      "2019-12-10T00:02:34.054888 for 2 files\n",
      "skipping /Users/jpnelson/2019/jermswriting/data/validation/v/1.png\n",
      "Finished at 2019-12-10T00:02:34.057544\n",
      "2019-12-10T00:02:34.057576 for 3 files\n",
      "skipping /Users/jpnelson/2019/jermswriting/data/validation/w/2.png\n",
      "skipping /Users/jpnelson/2019/jermswriting/data/validation/w/1.png\n",
      "Finished at 2019-12-10T00:02:34.062941\n",
      "2019-12-10T00:02:34.063018 for 4 files\n",
      "skipping /Users/jpnelson/2019/jermswriting/data/validation/x/2.png\n",
      "skipping /Users/jpnelson/2019/jermswriting/data/validation/x/1.png\n",
      "Finished at 2019-12-10T00:02:34.069398\n",
      "2019-12-10T00:02:34.069477 for 4 files\n",
      "skipping /Users/jpnelson/2019/jermswriting/data/validation/y/2.png\n",
      "skipping /Users/jpnelson/2019/jermswriting/data/validation/y/1.png\n",
      "Finished at 2019-12-10T00:02:34.077268\n",
      "2019-12-10T00:02:34.077357 for 4 files\n",
      "skipping /Users/jpnelson/2019/jermswriting/data/validation/z/2.png\n",
      "skipping /Users/jpnelson/2019/jermswriting/data/validation/z/1.png\n",
      "Finished at 2019-12-10T00:02:34.084730\n"
     ]
    }
   ],
   "source": [
    "for char in string.ascii_lowercase[1:]:\n",
    "    process_directory(f\"/Users/jpnelson/2019/jermswriting/data/validation/{char}\")"
   ]
  },
  {
   "cell_type": "code",
   "execution_count": 89,
   "metadata": {},
   "outputs": [],
   "source": [
    "import matplotlib.pyplot as plt\n",
    "import numpy as np\n",
    "\n",
    "def show_batch(image_batch, label_batch):\n",
    "  plt.figure(figsize=(10,10))\n",
    "  for n in range(25):\n",
    "      ax = plt.subplot(5,5,n+1)\n",
    "      plt.imshow(np.reshape(image_batch[n], (56,56)))\n",
    "      print(np.argwhere(label_batch[n]==1))\n",
    "      #plt.title(CLASS_NAMES[np.argwhere(label_batch[n]==1)[0][0]])\n",
    "      plt.axis('off')\n",
    "\n"
   ]
  },
  {
   "cell_type": "code",
   "execution_count": 66,
   "metadata": {},
   "outputs": [],
   "source": [
    "import tensorflow as tf \n",
    "from tensorflow import keras\n",
    "import pathlib"
   ]
  },
  {
   "cell_type": "code",
   "execution_count": 73,
   "metadata": {},
   "outputs": [
    {
     "name": "stdout",
     "output_type": "stream",
     "text": [
      "['0', '1', '2', '3', '4', '5', '6', '7', '8', '9', 'a', 'b', 'c', 'd', 'e', 'f', 'g', 'h', 'i', 'j', 'k', 'l', 'm', 'n', 'o', 'p', 'q', 'r', 's', 't', 'u', 'v', 'w', 'x', 'y', 'z']\n"
     ]
    }
   ],
   "source": [
    "# define data paths and constants\n",
    "train_dir = pathlib.Path('/Users/jpnelson/2019/jermswriting/data/train')\n",
    "valid_dir = pathlib.Path('/Users/jpnelson/2019/jermswriting/data/validation')\n",
    "\n",
    "BATCH_SIZE = 100\n",
    "IMG_HEIGHT, IMG_WIDTH = 56, 56\n",
    "CLASS_NAMES = sorted(d.stem for d in train_dir.glob('*'))\n",
    "print(CLASS_NAMES)\n"
   ]
  },
  {
   "cell_type": "code",
   "execution_count": 74,
   "metadata": {},
   "outputs": [],
   "source": [
    "import sys\n",
    "sys.path.append('/Users/jpnelson/2019/jermswriting/')"
   ]
  },
  {
   "cell_type": "code",
   "execution_count": 76,
   "metadata": {},
   "outputs": [],
   "source": [
    "import training"
   ]
  },
  {
   "cell_type": "code",
   "execution_count": 78,
   "metadata": {},
   "outputs": [
    {
     "name": "stderr",
     "output_type": "stream",
     "text": [
      "/Users/jpnelson/2019/jermswriting/training.py:45: FutureWarning: elementwise comparison failed; returning scalar instead, but in the future will perform elementwise comparison\n",
      "  return file_path.parts[-2] == np.array(CLASS_NAMES)\n"
     ]
    }
   ],
   "source": [
    "valid_imgs, valid_labels = zip(*(training.process_path(f_p) for f_p in valid_dir.glob('*/*')))"
   ]
  },
  {
   "cell_type": "code",
   "execution_count": 90,
   "metadata": {},
   "outputs": [
    {
     "name": "stdout",
     "output_type": "stream",
     "text": [
      "[]\n",
      "[]\n",
      "[]\n",
      "[]\n",
      "[]\n",
      "[]\n",
      "[]\n",
      "[]\n",
      "[]\n",
      "[]\n",
      "[]\n",
      "[]\n",
      "[]\n",
      "[]\n",
      "[]\n",
      "[]\n",
      "[]\n",
      "[]\n",
      "[]\n",
      "[]\n",
      "[]\n",
      "[]\n",
      "[]\n",
      "[]\n",
      "[]\n"
     ]
    },
    {
     "data": {
      "image/png": "[encoded data removed]",
      "text/plain": [
       "<Figure size 720x720 with 25 Axes>"
      ]
     },
     "metadata": {
      "needs_background": "light"
     },
     "output_type": "display_data"
    }
   ],
   "source": [
    "show_batch(valid_imgs, valid_labels)"
   ]
  },
  {
   "cell_type": "code",
   "execution_count": 80,
   "metadata": {},
   "outputs": [
    {
     "data": {
      "text/plain": [
       "'0'"
      ]
     },
     "execution_count": 80,
     "metadata": {},
     "output_type": "execute_result"
    }
   ],
   "source": [
    "CLASS_NAMES[0]"
   ]
  },
  {
   "cell_type": "code",
   "execution_count": null,
   "metadata": {},
   "outputs": [],
   "source": []
  }
 ],
 "metadata": {
  "kernelspec": {
   "display_name": "Python 3",
   "language": "python",
   "name": "python3"
  },
  "language_info": {
   "codemirror_mode": {
    "name": "ipython",
    "version": 3
   },
   "file_extension": ".py",
   "mimetype": "text/x-python",
   "name": "python",
   "nbconvert_exporter": "python",
   "pygments_lexer": "ipython3",
   "version": "3.7.0"
  }
 },
 "nbformat": 4,
 "nbformat_minor": 2
}
